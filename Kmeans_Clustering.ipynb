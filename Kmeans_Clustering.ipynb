{
 "cells": [
  {
   "cell_type": "code",
   "execution_count": null,
   "id": "27f05c4b-10e6-4a7a-a19e-0a5f53b7a7d9",
   "metadata": {},
   "outputs": [],
   "source": [
    "import pandas as pd\n",
    "from sklearn.cluster import KMeans\n",
    "from sklearn.preprocessing import MinMaxScaler\n",
    "from matplotlib import pyplot as plt\n",
    "%matplotlib inline"
   ]
  },
  {
   "cell_type": "code",
   "execution_count": null,
   "id": "8ec87d13-9593-426d-9cd9-ebecd8696c04",
   "metadata": {},
   "outputs": [],
   "source": [
    "df = pd.read_csv('income.csv')"
   ]
  },
  {
   "cell_type": "code",
   "execution_count": null,
   "id": "64183a4a-9289-4803-a9f5-4fabc67008e8",
   "metadata": {},
   "outputs": [],
   "source": [
    "input = df.drop('Name', axis = 'columns')"
   ]
  },
  {
   "cell_type": "code",
   "execution_count": null,
   "id": "bac13283-0371-4de5-b016-2c9c07cbcdad",
   "metadata": {},
   "outputs": [],
   "source": [
    "scaler = MinMaxScaler()\n",
    "scaler.fit(input[['Age']])\n",
    "input['Age'] = scaler.transform(input[['Age']])\n",
    "scaler.fit(input[['Income($)']])\n",
    "input['Income($)'] = scaler.transform(input[['Income($)']])\n"
   ]
  },
  {
   "cell_type": "code",
   "execution_count": null,
   "id": "c8a15f51-b6eb-4b53-8ed9-d27f21656a34",
   "metadata": {},
   "outputs": [],
   "source": [
    "km = KMeans(n_clusters = 3)\n",
    "km.fit(input)\n",
    "y_predict = km.predict(input)"
   ]
  },
  {
   "cell_type": "code",
   "execution_count": null,
   "id": "8c2b80e6-ab96-4868-a7cb-14940ee652bf",
   "metadata": {},
   "outputs": [],
   "source": [
    "input['Clusters'] = y_predict"
   ]
  },
  {
   "cell_type": "code",
   "execution_count": null,
   "id": "ddd0b9e2-ad2b-410a-9851-d06a7b7d10d0",
   "metadata": {},
   "outputs": [],
   "source": [
    "df1 = input[input.clusters==0]\n",
    "df2 = input[input.clusters==1]\n",
    "df3 = input[input.clusters==2]"
   ]
  },
  {
   "cell_type": "code",
   "execution_count": null,
   "id": "e17933a6-ebfe-417f-869d-e3fc3259f98e",
   "metadata": {},
   "outputs": [],
   "source": [
    "plt.scatter(df1.Age, df1['Income($)'], color = 'Green')\n",
    "plt.scatter(df2.Age, df2['Income($)'], color = 'Blue')\n",
    "plt.scatter(df3.Age, df3['Income($)'], color = 'Yellow')\n",
    "plt.scatter(km.cluster_centers_[:,0], km.cluster_centers_[:,1], color ='Black', marker = '*')\n",
    "plt.legend()"
   ]
  },
  {
   "cell_type": "code",
   "execution_count": null,
   "id": "98923096-671e-41bc-84cb-55b0598270c3",
   "metadata": {},
   "outputs": [],
   "source": [
    "k_rng = range(1,10)\n",
    "sse = []\n",
    "for k in k_rng:\n",
    "    km = KMeans(n_clusters = k)\n",
    "    km.fit(input[['Age','Income($)']])\n",
    "    sse.append(km.inertia_)"
   ]
  },
  {
   "cell_type": "code",
   "execution_count": null,
   "id": "055614d2-f583-4191-b040-54f324c469d7",
   "metadata": {},
   "outputs": [],
   "source": [
    "plt.plot(k_rng,sse)"
   ]
  },
  {
   "cell_type": "code",
   "execution_count": null,
   "id": "63ede247-2858-465c-884f-4bc23f8a7b4a",
   "metadata": {},
   "outputs": [],
   "source": []
  }
 ],
 "metadata": {
  "kernelspec": {
   "display_name": "Python 3 (ipykernel)",
   "language": "python",
   "name": "python3"
  },
  "language_info": {
   "codemirror_mode": {
    "name": "ipython",
    "version": 3
   },
   "file_extension": ".py",
   "mimetype": "text/x-python",
   "name": "python",
   "nbconvert_exporter": "python",
   "pygments_lexer": "ipython3",
   "version": "3.11.7"
  }
 },
 "nbformat": 4,
 "nbformat_minor": 5
}
